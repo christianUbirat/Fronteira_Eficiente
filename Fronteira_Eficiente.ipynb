{
  "nbformat": 4,
  "nbformat_minor": 0,
  "metadata": {
    "colab": {
      "name": "Fronteira_Eficiente.ipynb",
      "provenance": []
    },
    "kernelspec": {
      "name": "python3",
      "display_name": "Python 3"
    }
  },
  "cells": [
    {
      "cell_type": "markdown",
      "metadata": {
        "id": "QGHKqxZgQN-z"
      },
      "source": [
        "# **Calculando a fronteira eficiente com o melhor índice sharpe com Python**\n",
        "Para acessar o tutorial completo, e outros tutorias, acesse:\n",
        "\n",
        "https://edu.ieee.org/br-ufcgras/tutoriais/\n",
        "\n",
        "O tutorial completo explicando esse código se encontra no link abaixo:\n",
        "\n",
        "https://drive.google.com/file/d/15sm18WnkNXQNSlj2TFkZMWmHYpKbH6np/view\n"
      ]
    },
    {
      "cell_type": "code",
      "metadata": {
        "id": "CT24iQSQM-32"
      },
      "source": [
        "import pandas as pd\n",
        "import numpy as np\n",
        "import matplotlib.pyplot as plt\n",
        "from pandas_datareader import data as web\n",
        "from datetime import datetime \n",
        "plt.style.use('fivethirtyeight')"
      ],
      "execution_count": null,
      "outputs": []
    },
    {
      "cell_type": "markdown",
      "metadata": {
        "id": "hJ_WTtqI7rBj"
      },
      "source": [
        "Aqui vai um bônus para quem deseja acessar os dados financeiros do Yahoo Finance, é possível utilizar a biblioteca yfinance:"
      ]
    },
    {
      "cell_type": "markdown",
      "metadata": {
        "id": "GwhZA1BVQQQB"
      },
      "source": [
        "https://pypi.org/project/yfinance/"
      ]
    },
    {
      "cell_type": "code",
      "metadata": {
        "id": "h8TQB4fYZrKO"
      },
      "source": [
        "pip install yfinance "
      ],
      "execution_count": null,
      "outputs": []
    },
    {
      "cell_type": "code",
      "metadata": {
        "colab": {
          "base_uri": "https://localhost:8080/",
          "height": 450
        },
        "id": "Iu4uhl21P98l",
        "outputId": "afd33e81-7554-4225-e716-6ca74d1d662d"
      },
      "source": [
        "import yfinance as yf\n",
        "ticker = 'TSLA'\n",
        "dados = yf.Ticker(ticker)\n",
        "tickerDF = dados.history(period = '1d', start='2010-1-1', end='2020-10-31')\n",
        "tickerDF"
      ],
      "execution_count": null,
      "outputs": [
        {
          "output_type": "execute_result",
          "data": {
            "text/html": [
              "<div>\n",
              "<style scoped>\n",
              "    .dataframe tbody tr th:only-of-type {\n",
              "        vertical-align: middle;\n",
              "    }\n",
              "\n",
              "    .dataframe tbody tr th {\n",
              "        vertical-align: top;\n",
              "    }\n",
              "\n",
              "    .dataframe thead th {\n",
              "        text-align: right;\n",
              "    }\n",
              "</style>\n",
              "<table border=\"1\" class=\"dataframe\">\n",
              "  <thead>\n",
              "    <tr style=\"text-align: right;\">\n",
              "      <th></th>\n",
              "      <th>Open</th>\n",
              "      <th>High</th>\n",
              "      <th>Low</th>\n",
              "      <th>Close</th>\n",
              "      <th>Volume</th>\n",
              "      <th>Dividends</th>\n",
              "      <th>Stock Splits</th>\n",
              "    </tr>\n",
              "    <tr>\n",
              "      <th>Date</th>\n",
              "      <th></th>\n",
              "      <th></th>\n",
              "      <th></th>\n",
              "      <th></th>\n",
              "      <th></th>\n",
              "      <th></th>\n",
              "      <th></th>\n",
              "    </tr>\n",
              "  </thead>\n",
              "  <tbody>\n",
              "    <tr>\n",
              "      <th>2010-06-29</th>\n",
              "      <td>3.800000</td>\n",
              "      <td>5.000000</td>\n",
              "      <td>3.508000</td>\n",
              "      <td>4.778000</td>\n",
              "      <td>93831500</td>\n",
              "      <td>0</td>\n",
              "      <td>0.0</td>\n",
              "    </tr>\n",
              "    <tr>\n",
              "      <th>2010-06-30</th>\n",
              "      <td>5.158000</td>\n",
              "      <td>6.084000</td>\n",
              "      <td>4.660000</td>\n",
              "      <td>4.766000</td>\n",
              "      <td>85935500</td>\n",
              "      <td>0</td>\n",
              "      <td>0.0</td>\n",
              "    </tr>\n",
              "    <tr>\n",
              "      <th>2010-07-01</th>\n",
              "      <td>5.000000</td>\n",
              "      <td>5.184000</td>\n",
              "      <td>4.054000</td>\n",
              "      <td>4.392000</td>\n",
              "      <td>41094000</td>\n",
              "      <td>0</td>\n",
              "      <td>0.0</td>\n",
              "    </tr>\n",
              "    <tr>\n",
              "      <th>2010-07-02</th>\n",
              "      <td>4.600000</td>\n",
              "      <td>4.620000</td>\n",
              "      <td>3.742000</td>\n",
              "      <td>3.840000</td>\n",
              "      <td>25699000</td>\n",
              "      <td>0</td>\n",
              "      <td>0.0</td>\n",
              "    </tr>\n",
              "    <tr>\n",
              "      <th>2010-07-06</th>\n",
              "      <td>4.000000</td>\n",
              "      <td>4.000000</td>\n",
              "      <td>3.166000</td>\n",
              "      <td>3.222000</td>\n",
              "      <td>34334500</td>\n",
              "      <td>0</td>\n",
              "      <td>0.0</td>\n",
              "    </tr>\n",
              "    <tr>\n",
              "      <th>...</th>\n",
              "      <td>...</td>\n",
              "      <td>...</td>\n",
              "      <td>...</td>\n",
              "      <td>...</td>\n",
              "      <td>...</td>\n",
              "      <td>...</td>\n",
              "      <td>...</td>\n",
              "    </tr>\n",
              "    <tr>\n",
              "      <th>2020-10-26</th>\n",
              "      <td>411.630005</td>\n",
              "      <td>425.760010</td>\n",
              "      <td>410.000000</td>\n",
              "      <td>420.279999</td>\n",
              "      <td>28239200</td>\n",
              "      <td>0</td>\n",
              "      <td>0.0</td>\n",
              "    </tr>\n",
              "    <tr>\n",
              "      <th>2020-10-27</th>\n",
              "      <td>423.760010</td>\n",
              "      <td>430.500000</td>\n",
              "      <td>420.100006</td>\n",
              "      <td>424.679993</td>\n",
              "      <td>22686500</td>\n",
              "      <td>0</td>\n",
              "      <td>0.0</td>\n",
              "    </tr>\n",
              "    <tr>\n",
              "      <th>2020-10-28</th>\n",
              "      <td>416.480011</td>\n",
              "      <td>418.600006</td>\n",
              "      <td>406.000000</td>\n",
              "      <td>406.019989</td>\n",
              "      <td>25451400</td>\n",
              "      <td>0</td>\n",
              "      <td>0.0</td>\n",
              "    </tr>\n",
              "    <tr>\n",
              "      <th>2020-10-29</th>\n",
              "      <td>409.959991</td>\n",
              "      <td>418.059998</td>\n",
              "      <td>406.459991</td>\n",
              "      <td>410.829987</td>\n",
              "      <td>22655300</td>\n",
              "      <td>0</td>\n",
              "      <td>0.0</td>\n",
              "    </tr>\n",
              "    <tr>\n",
              "      <th>2020-10-30</th>\n",
              "      <td>406.899994</td>\n",
              "      <td>407.589996</td>\n",
              "      <td>379.109985</td>\n",
              "      <td>388.040009</td>\n",
              "      <td>42511300</td>\n",
              "      <td>0</td>\n",
              "      <td>0.0</td>\n",
              "    </tr>\n",
              "  </tbody>\n",
              "</table>\n",
              "<p>2605 rows × 7 columns</p>\n",
              "</div>"
            ],
            "text/plain": [
              "                  Open        High  ...  Dividends  Stock Splits\n",
              "Date                                ...                         \n",
              "2010-06-29    3.800000    5.000000  ...          0           0.0\n",
              "2010-06-30    5.158000    6.084000  ...          0           0.0\n",
              "2010-07-01    5.000000    5.184000  ...          0           0.0\n",
              "2010-07-02    4.600000    4.620000  ...          0           0.0\n",
              "2010-07-06    4.000000    4.000000  ...          0           0.0\n",
              "...                ...         ...  ...        ...           ...\n",
              "2020-10-26  411.630005  425.760010  ...          0           0.0\n",
              "2020-10-27  423.760010  430.500000  ...          0           0.0\n",
              "2020-10-28  416.480011  418.600006  ...          0           0.0\n",
              "2020-10-29  409.959991  418.059998  ...          0           0.0\n",
              "2020-10-30  406.899994  407.589996  ...          0           0.0\n",
              "\n",
              "[2605 rows x 7 columns]"
            ]
          },
          "metadata": {
            "tags": []
          },
          "execution_count": 15
        }
      ]
    },
    {
      "cell_type": "markdown",
      "metadata": {
        "id": "2Lo1SYrf78oh"
      },
      "source": [
        "Vamos começar então! Primeiro escolhemos as empresas que farão parte do nosso universo de ações, junto com o peso que cada uma vai assumir na carteira e com o tempo de análise:\n"
      ]
    },
    {
      "cell_type": "code",
      "metadata": {
        "id": "ZHxfj7fDZw90"
      },
      "source": [
        "acoes = ['TSLA', 'AAPL', 'GOOG', 'AMZN', 'FB']"
      ],
      "execution_count": null,
      "outputs": []
    },
    {
      "cell_type": "code",
      "metadata": {
        "id": "vTNun90sbBGJ"
      },
      "source": [
        "pesos = np.array([0.2, 0.2, 0.2, 0.2, 0.2])"
      ],
      "execution_count": null,
      "outputs": []
    },
    {
      "cell_type": "code",
      "metadata": {
        "colab": {
          "base_uri": "https://localhost:8080/",
          "height": 35
        },
        "id": "vVUsWOZebSTQ",
        "outputId": "937bbac0-880a-43dd-9115-e2610cc97a4d"
      },
      "source": [
        "inicio = '2016-01-01'\n",
        "hoje = datetime.today().strftime('%Y-%m-%d')\n",
        "hoje"
      ],
      "execution_count": null,
      "outputs": [
        {
          "output_type": "execute_result",
          "data": {
            "application/vnd.google.colaboratory.intrinsic+json": {
              "type": "string"
            },
            "text/plain": [
              "'2020-11-24'"
            ]
          },
          "metadata": {
            "tags": []
          },
          "execution_count": 53
        }
      ]
    },
    {
      "cell_type": "code",
      "metadata": {
        "colab": {
          "base_uri": "https://localhost:8080/",
          "height": 450
        },
        "id": "lUZ40iyfbmAJ",
        "outputId": "3baa778b-c34d-4ad3-975b-03fb6b98c4c3"
      },
      "source": [
        "df = pd.DataFrame() \n",
        "\n",
        "for acao in acoes:\n",
        "  df[acao] = web.DataReader(acao, data_source='yahoo', start=inicio, end=fim)['Adj Close']\n",
        "df"
      ],
      "execution_count": null,
      "outputs": [
        {
          "output_type": "execute_result",
          "data": {
            "text/html": [
              "<div>\n",
              "<style scoped>\n",
              "    .dataframe tbody tr th:only-of-type {\n",
              "        vertical-align: middle;\n",
              "    }\n",
              "\n",
              "    .dataframe tbody tr th {\n",
              "        vertical-align: top;\n",
              "    }\n",
              "\n",
              "    .dataframe thead th {\n",
              "        text-align: right;\n",
              "    }\n",
              "</style>\n",
              "<table border=\"1\" class=\"dataframe\">\n",
              "  <thead>\n",
              "    <tr style=\"text-align: right;\">\n",
              "      <th></th>\n",
              "      <th>TSLA</th>\n",
              "      <th>AAPL</th>\n",
              "      <th>GOOG</th>\n",
              "      <th>AMZN</th>\n",
              "      <th>FB</th>\n",
              "    </tr>\n",
              "    <tr>\n",
              "      <th>Date</th>\n",
              "      <th></th>\n",
              "      <th></th>\n",
              "      <th></th>\n",
              "      <th></th>\n",
              "      <th></th>\n",
              "    </tr>\n",
              "  </thead>\n",
              "  <tbody>\n",
              "    <tr>\n",
              "      <th>2016-01-04</th>\n",
              "      <td>44.681999</td>\n",
              "      <td>24.202784</td>\n",
              "      <td>741.840027</td>\n",
              "      <td>636.989990</td>\n",
              "      <td>102.220001</td>\n",
              "    </tr>\n",
              "    <tr>\n",
              "      <th>2016-01-05</th>\n",
              "      <td>44.686001</td>\n",
              "      <td>23.596279</td>\n",
              "      <td>742.580017</td>\n",
              "      <td>633.789978</td>\n",
              "      <td>102.730003</td>\n",
              "    </tr>\n",
              "    <tr>\n",
              "      <th>2016-01-06</th>\n",
              "      <td>43.807999</td>\n",
              "      <td>23.134508</td>\n",
              "      <td>743.619995</td>\n",
              "      <td>632.650024</td>\n",
              "      <td>102.970001</td>\n",
              "    </tr>\n",
              "    <tr>\n",
              "      <th>2016-01-07</th>\n",
              "      <td>43.130001</td>\n",
              "      <td>22.158121</td>\n",
              "      <td>726.390015</td>\n",
              "      <td>607.940002</td>\n",
              "      <td>97.919998</td>\n",
              "    </tr>\n",
              "    <tr>\n",
              "      <th>2016-01-08</th>\n",
              "      <td>42.200001</td>\n",
              "      <td>22.275295</td>\n",
              "      <td>714.469971</td>\n",
              "      <td>607.049988</td>\n",
              "      <td>97.330002</td>\n",
              "    </tr>\n",
              "    <tr>\n",
              "      <th>...</th>\n",
              "      <td>...</td>\n",
              "      <td>...</td>\n",
              "      <td>...</td>\n",
              "      <td>...</td>\n",
              "      <td>...</td>\n",
              "    </tr>\n",
              "    <tr>\n",
              "      <th>2020-10-26</th>\n",
              "      <td>420.279999</td>\n",
              "      <td>114.851852</td>\n",
              "      <td>1590.449951</td>\n",
              "      <td>3207.040039</td>\n",
              "      <td>277.109985</td>\n",
              "    </tr>\n",
              "    <tr>\n",
              "      <th>2020-10-27</th>\n",
              "      <td>424.679993</td>\n",
              "      <td>116.399178</td>\n",
              "      <td>1604.260010</td>\n",
              "      <td>3286.330078</td>\n",
              "      <td>283.290009</td>\n",
              "    </tr>\n",
              "    <tr>\n",
              "      <th>2020-10-28</th>\n",
              "      <td>406.019989</td>\n",
              "      <td>111.008476</td>\n",
              "      <td>1516.619995</td>\n",
              "      <td>3162.780029</td>\n",
              "      <td>267.670013</td>\n",
              "    </tr>\n",
              "    <tr>\n",
              "      <th>2020-10-29</th>\n",
              "      <td>410.829987</td>\n",
              "      <td>115.121384</td>\n",
              "      <td>1567.239990</td>\n",
              "      <td>3211.010010</td>\n",
              "      <td>280.829987</td>\n",
              "    </tr>\n",
              "    <tr>\n",
              "      <th>2020-10-30</th>\n",
              "      <td>388.040009</td>\n",
              "      <td>108.672516</td>\n",
              "      <td>1621.010010</td>\n",
              "      <td>3036.149902</td>\n",
              "      <td>263.109985</td>\n",
              "    </tr>\n",
              "  </tbody>\n",
              "</table>\n",
              "<p>1217 rows × 5 columns</p>\n",
              "</div>"
            ],
            "text/plain": [
              "                  TSLA        AAPL         GOOG         AMZN          FB\n",
              "Date                                                                    \n",
              "2016-01-04   44.681999   24.202784   741.840027   636.989990  102.220001\n",
              "2016-01-05   44.686001   23.596279   742.580017   633.789978  102.730003\n",
              "2016-01-06   43.807999   23.134508   743.619995   632.650024  102.970001\n",
              "2016-01-07   43.130001   22.158121   726.390015   607.940002   97.919998\n",
              "2016-01-08   42.200001   22.275295   714.469971   607.049988   97.330002\n",
              "...                ...         ...          ...          ...         ...\n",
              "2020-10-26  420.279999  114.851852  1590.449951  3207.040039  277.109985\n",
              "2020-10-27  424.679993  116.399178  1604.260010  3286.330078  283.290009\n",
              "2020-10-28  406.019989  111.008476  1516.619995  3162.780029  267.670013\n",
              "2020-10-29  410.829987  115.121384  1567.239990  3211.010010  280.829987\n",
              "2020-10-30  388.040009  108.672516  1621.010010  3036.149902  263.109985\n",
              "\n",
              "[1217 rows x 5 columns]"
            ]
          },
          "metadata": {
            "tags": []
          },
          "execution_count": 54
        }
      ]
    },
    {
      "cell_type": "code",
      "metadata": {
        "colab": {
          "base_uri": "https://localhost:8080/",
          "height": 325
        },
        "id": "QuwotrebcYOL",
        "outputId": "63f0b515-06ec-459a-eeaa-bd66292142c2"
      },
      "source": [
        "df1 = df\n",
        "\n",
        "for c in df1.columns.values:\n",
        "  plt.plot(df1[c], label=c)\n",
        "plt.title('Preço de fechamento das ações')\n",
        "plt.xlabel('Data', fontsize=18)\n",
        "plt.ylabel('Preço de fechamento USD')\n",
        "plt.legend(df1.columns.values, loc = 'upper left')\n",
        "plt.show() "
      ],
      "execution_count": null,
      "outputs": [
        {
          "output_type": "display_data",
          "data": {
            "image/png": "[encoded data removed]",
            "text/plain": [
              "<Figure size 432x288 with 1 Axes>"
            ]
          },
          "metadata": {
            "tags": []
          }
        }
      ]
    },
    {
      "cell_type": "code",
      "metadata": {
        "colab": {
          "base_uri": "https://localhost:8080/",
          "height": 450
        },
        "id": "yo0pfjs5fj_q",
        "outputId": "cc332b3f-440a-485c-bb3f-28a71e62f7d3"
      },
      "source": [
        "#retornos diários\n",
        "retorno = df.pct_change()\n",
        "retorno"
      ],
      "execution_count": null,
      "outputs": [
        {
          "output_type": "execute_result",
          "data": {
            "text/html": [
              "<div>\n",
              "<style scoped>\n",
              "    .dataframe tbody tr th:only-of-type {\n",
              "        vertical-align: middle;\n",
              "    }\n",
              "\n",
              "    .dataframe tbody tr th {\n",
              "        vertical-align: top;\n",
              "    }\n",
              "\n",
              "    .dataframe thead th {\n",
              "        text-align: right;\n",
              "    }\n",
              "</style>\n",
              "<table border=\"1\" class=\"dataframe\">\n",
              "  <thead>\n",
              "    <tr style=\"text-align: right;\">\n",
              "      <th></th>\n",
              "      <th>TSLA</th>\n",
              "      <th>AAPL</th>\n",
              "      <th>GOOG</th>\n",
              "      <th>AMZN</th>\n",
              "      <th>FB</th>\n",
              "    </tr>\n",
              "    <tr>\n",
              "      <th>Date</th>\n",
              "      <th></th>\n",
              "      <th></th>\n",
              "      <th></th>\n",
              "      <th></th>\n",
              "      <th></th>\n",
              "    </tr>\n",
              "  </thead>\n",
              "  <tbody>\n",
              "    <tr>\n",
              "      <th>2016-01-04</th>\n",
              "      <td>NaN</td>\n",
              "      <td>NaN</td>\n",
              "      <td>NaN</td>\n",
              "      <td>NaN</td>\n",
              "      <td>NaN</td>\n",
              "    </tr>\n",
              "    <tr>\n",
              "      <th>2016-01-05</th>\n",
              "      <td>0.000090</td>\n",
              "      <td>-0.025059</td>\n",
              "      <td>0.000998</td>\n",
              "      <td>-0.005024</td>\n",
              "      <td>0.004989</td>\n",
              "    </tr>\n",
              "    <tr>\n",
              "      <th>2016-01-06</th>\n",
              "      <td>-0.019648</td>\n",
              "      <td>-0.019570</td>\n",
              "      <td>0.001400</td>\n",
              "      <td>-0.001799</td>\n",
              "      <td>0.002336</td>\n",
              "    </tr>\n",
              "    <tr>\n",
              "      <th>2016-01-07</th>\n",
              "      <td>-0.015477</td>\n",
              "      <td>-0.042205</td>\n",
              "      <td>-0.023170</td>\n",
              "      <td>-0.039058</td>\n",
              "      <td>-0.049043</td>\n",
              "    </tr>\n",
              "    <tr>\n",
              "      <th>2016-01-08</th>\n",
              "      <td>-0.021563</td>\n",
              "      <td>0.005288</td>\n",
              "      <td>-0.016410</td>\n",
              "      <td>-0.001464</td>\n",
              "      <td>-0.006025</td>\n",
              "    </tr>\n",
              "    <tr>\n",
              "      <th>...</th>\n",
              "      <td>...</td>\n",
              "      <td>...</td>\n",
              "      <td>...</td>\n",
              "      <td>...</td>\n",
              "      <td>...</td>\n",
              "    </tr>\n",
              "    <tr>\n",
              "      <th>2020-10-26</th>\n",
              "      <td>-0.000832</td>\n",
              "      <td>0.000087</td>\n",
              "      <td>-0.030804</td>\n",
              "      <td>0.000824</td>\n",
              "      <td>-0.026967</td>\n",
              "    </tr>\n",
              "    <tr>\n",
              "      <th>2020-10-27</th>\n",
              "      <td>0.010469</td>\n",
              "      <td>0.013472</td>\n",
              "      <td>0.008683</td>\n",
              "      <td>0.024724</td>\n",
              "      <td>0.022302</td>\n",
              "    </tr>\n",
              "    <tr>\n",
              "      <th>2020-10-28</th>\n",
              "      <td>-0.043939</td>\n",
              "      <td>-0.046312</td>\n",
              "      <td>-0.054630</td>\n",
              "      <td>-0.037595</td>\n",
              "      <td>-0.055138</td>\n",
              "    </tr>\n",
              "    <tr>\n",
              "      <th>2020-10-29</th>\n",
              "      <td>0.011847</td>\n",
              "      <td>0.037050</td>\n",
              "      <td>0.033377</td>\n",
              "      <td>0.015249</td>\n",
              "      <td>0.049165</td>\n",
              "    </tr>\n",
              "    <tr>\n",
              "      <th>2020-10-30</th>\n",
              "      <td>-0.055473</td>\n",
              "      <td>-0.056018</td>\n",
              "      <td>0.034309</td>\n",
              "      <td>-0.054456</td>\n",
              "      <td>-0.063099</td>\n",
              "    </tr>\n",
              "  </tbody>\n",
              "</table>\n",
              "<p>1217 rows × 5 columns</p>\n",
              "</div>"
            ],
            "text/plain": [
              "                TSLA      AAPL      GOOG      AMZN        FB\n",
              "Date                                                        \n",
              "2016-01-04       NaN       NaN       NaN       NaN       NaN\n",
              "2016-01-05  0.000090 -0.025059  0.000998 -0.005024  0.004989\n",
              "2016-01-06 -0.019648 -0.019570  0.001400 -0.001799  0.002336\n",
              "2016-01-07 -0.015477 -0.042205 -0.023170 -0.039058 -0.049043\n",
              "2016-01-08 -0.021563  0.005288 -0.016410 -0.001464 -0.006025\n",
              "...              ...       ...       ...       ...       ...\n",
              "2020-10-26 -0.000832  0.000087 -0.030804  0.000824 -0.026967\n",
              "2020-10-27  0.010469  0.013472  0.008683  0.024724  0.022302\n",
              "2020-10-28 -0.043939 -0.046312 -0.054630 -0.037595 -0.055138\n",
              "2020-10-29  0.011847  0.037050  0.033377  0.015249  0.049165\n",
              "2020-10-30 -0.055473 -0.056018  0.034309 -0.054456 -0.063099\n",
              "\n",
              "[1217 rows x 5 columns]"
            ]
          },
          "metadata": {
            "tags": []
          },
          "execution_count": 56
        }
      ]
    },
    {
      "cell_type": "code",
      "metadata": {
        "colab": {
          "base_uri": "https://localhost:8080/",
          "height": 204
        },
        "id": "QbhfH7OHf68_",
        "outputId": "3f6bd654-693e-4a9c-a9d7-3b188d643d8d"
      },
      "source": [
        "#Multiplica por 252 pra anualizar (252 dias úteis em um ano comercial)\n",
        "matriz_cov_anual = retorno.cov() * 252\n",
        "matriz_cov_anual"
      ],
      "execution_count": null,
      "outputs": [
        {
          "output_type": "execute_result",
          "data": {
            "text/html": [
              "<div>\n",
              "<style scoped>\n",
              "    .dataframe tbody tr th:only-of-type {\n",
              "        vertical-align: middle;\n",
              "    }\n",
              "\n",
              "    .dataframe tbody tr th {\n",
              "        vertical-align: top;\n",
              "    }\n",
              "\n",
              "    .dataframe thead th {\n",
              "        text-align: right;\n",
              "    }\n",
              "</style>\n",
              "<table border=\"1\" class=\"dataframe\">\n",
              "  <thead>\n",
              "    <tr style=\"text-align: right;\">\n",
              "      <th></th>\n",
              "      <th>TSLA</th>\n",
              "      <th>AAPL</th>\n",
              "      <th>GOOG</th>\n",
              "      <th>AMZN</th>\n",
              "      <th>FB</th>\n",
              "    </tr>\n",
              "  </thead>\n",
              "  <tbody>\n",
              "    <tr>\n",
              "      <th>TSLA</th>\n",
              "      <td>0.331676</td>\n",
              "      <td>0.069629</td>\n",
              "      <td>0.057114</td>\n",
              "      <td>0.065195</td>\n",
              "      <td>0.062565</td>\n",
              "    </tr>\n",
              "    <tr>\n",
              "      <th>AAPL</th>\n",
              "      <td>0.069629</td>\n",
              "      <td>0.091559</td>\n",
              "      <td>0.052808</td>\n",
              "      <td>0.054720</td>\n",
              "      <td>0.057795</td>\n",
              "    </tr>\n",
              "    <tr>\n",
              "      <th>GOOG</th>\n",
              "      <td>0.057114</td>\n",
              "      <td>0.052808</td>\n",
              "      <td>0.070265</td>\n",
              "      <td>0.053707</td>\n",
              "      <td>0.060353</td>\n",
              "    </tr>\n",
              "    <tr>\n",
              "      <th>AMZN</th>\n",
              "      <td>0.065195</td>\n",
              "      <td>0.054720</td>\n",
              "      <td>0.053707</td>\n",
              "      <td>0.092197</td>\n",
              "      <td>0.061762</td>\n",
              "    </tr>\n",
              "    <tr>\n",
              "      <th>FB</th>\n",
              "      <td>0.062565</td>\n",
              "      <td>0.057795</td>\n",
              "      <td>0.060353</td>\n",
              "      <td>0.061762</td>\n",
              "      <td>0.108588</td>\n",
              "    </tr>\n",
              "  </tbody>\n",
              "</table>\n",
              "</div>"
            ],
            "text/plain": [
              "          TSLA      AAPL      GOOG      AMZN        FB\n",
              "TSLA  0.331676  0.069629  0.057114  0.065195  0.062565\n",
              "AAPL  0.069629  0.091559  0.052808  0.054720  0.057795\n",
              "GOOG  0.057114  0.052808  0.070265  0.053707  0.060353\n",
              "AMZN  0.065195  0.054720  0.053707  0.092197  0.061762\n",
              "FB    0.062565  0.057795  0.060353  0.061762  0.108588"
            ]
          },
          "metadata": {
            "tags": []
          },
          "execution_count": 57
        }
      ]
    },
    {
      "cell_type": "code",
      "metadata": {
        "colab": {
          "base_uri": "https://localhost:8080/"
        },
        "id": "vhkCGGFqgxP-",
        "outputId": "66b4cf31-20ac-4494-a259-6e3eaaa62691"
      },
      "source": [
        "variancia = np.dot(pesos.T, np.dot(matriz_cov_anual, pesos))\n",
        "volatilidade = np.sqrt(variancia)\n",
        "volatilidade"
      ],
      "execution_count": null,
      "outputs": [
        {
          "output_type": "execute_result",
          "data": {
            "text/plain": [
              "0.27463280253729294"
            ]
          },
          "metadata": {
            "tags": []
          },
          "execution_count": 58
        }
      ]
    },
    {
      "cell_type": "code",
      "metadata": {
        "colab": {
          "base_uri": "https://localhost:8080/"
        },
        "id": "Rp6ynpHJhgly",
        "outputId": "22ca8c79-8a7f-430b-e369-f14b9a6ec571"
      },
      "source": [
        "retorno_anual = np.sum(retorno.mean() * pesos * 252)\n",
        "retorno_anual"
      ],
      "execution_count": null,
      "outputs": [
        {
          "output_type": "execute_result",
          "data": {
            "text/plain": [
              "0.3577332023337163"
            ]
          },
          "metadata": {
            "tags": []
          },
          "execution_count": 61
        }
      ]
    },
    {
      "cell_type": "code",
      "metadata": {
        "colab": {
          "base_uri": "https://localhost:8080/"
        },
        "id": "4u28URSIjAwM",
        "outputId": "7a117cf6-d3d3-4f62-c48c-da294a74875c"
      },
      "source": [
        "print('Retorno esperado anual: ' + str(round(retorno_anual, 2)*100) + '%')\n",
        "print('Risco: ' + str(round(volatilidade, 2)*100) + '%')\n",
        "print('Variância: ' + str(round(variancia, 2)*100) + '%')"
      ],
      "execution_count": null,
      "outputs": [
        {
          "output_type": "stream",
          "text": [
            "Retorno esperado anual: 36.0%\n",
            "Risco: 27.0%\n",
            "Variância: 8.0%\n"
          ],
          "name": "stdout"
        }
      ]
    },
    {
      "cell_type": "code",
      "metadata": {
        "id": "zUIdrQ5Xkksw"
      },
      "source": [
        "pip install PyPortfolioOpt"
      ],
      "execution_count": null,
      "outputs": []
    },
    {
      "cell_type": "code",
      "metadata": {
        "id": "mqcgqg7Gkz6M"
      },
      "source": [
        "from pypfopt import EfficientFrontier\n",
        "from pypfopt import risk_models\n",
        "from pypfopt import expected_returns"
      ],
      "execution_count": null,
      "outputs": []
    },
    {
      "cell_type": "code",
      "metadata": {
        "colab": {
          "base_uri": "https://localhost:8080/"
        },
        "id": "-_1srBu1lBai",
        "outputId": "b4ce93b2-eb15-4c69-b4d7-8aeaec18f513"
      },
      "source": [
        "media = expected_returns.mean_historical_return(df)\n",
        "cov = risk_models.sample_cov(df)\n",
        "\n",
        "EF = EfficientFrontier(media, cov)\n",
        "pesos = EF.max_sharpe()\n",
        "#limpando os dados brutos removendo as ações que não contribuem para a otimização do portfólio(cheque a documentação!)\n",
        "pesosEficientes = EF.clean_weights()\n",
        "print(pesosEficientes)\n",
        "EF.portfolio_performance(verbose = True)"
      ],
      "execution_count": null,
      "outputs": [
        {
          "output_type": "stream",
          "text": [
            "OrderedDict([('TSLA', 0.1677), ('AAPL', 0.36292), ('GOOG', 0.0), ('AMZN', 0.46938), ('FB', 0.0)])\n",
            "Expected annual return: 40.7%\n",
            "Annual volatility: 28.1%\n",
            "Sharpe Ratio: 1.37\n"
          ],
          "name": "stdout"
        },
        {
          "output_type": "execute_result",
          "data": {
            "text/plain": [
              "(0.4066370848795948, 0.28121453231408305, 1.3748830179507485)"
            ]
          },
          "metadata": {
            "tags": []
          },
          "execution_count": 70
        }
      ]
    },
    {
      "cell_type": "code",
      "metadata": {
        "colab": {
          "base_uri": "https://localhost:8080/"
        },
        "id": "yCIBq8RCqOUb",
        "outputId": "1f4928af-2999-44ec-9015-29aa07a71ab5"
      },
      "source": [
        "print('Aumento no retorno anual: ', ((0.407/retorno_anual)-1)*100, '%')\n",
        "print('Aumento da volatilidade anual: ', ((0.281/volatilidade)-1)*100, '%')"
      ],
      "execution_count": null,
      "outputs": [
        {
          "output_type": "stream",
          "text": [
            "Aumento no retorno anual:  13.77193879262133 %\n",
            "Aumento da volatilidade anual:  2.3184402605520793 %\n"
          ],
          "name": "stdout"
        }
      ]
    },
    {
      "cell_type": "code",
      "metadata": {
        "colab": {
          "base_uri": "https://localhost:8080/"
        },
        "id": "tELarNDsnQcz",
        "outputId": "b9ab1c92-639a-4d91-80f7-d3fdb293aacb"
      },
      "source": [
        "from pypfopt.discrete_allocation import DiscreteAllocation, get_latest_prices\n",
        "\n",
        "ultimo_preco = get_latest_prices(df)\n",
        "pesos = pesosEficientes\n",
        "da = DiscreteAllocation(pesos, ultimo_preco, total_portfolio_value = 10000)\n",
        "alocacao, resto = da.lp_portfolio()\n",
        "print('Quantidade de ações: ', alocacao)\n",
        "print('Dinheiro restante: ${:.2f}'.format(resto)) "
      ],
      "execution_count": null,
      "outputs": [
        {
          "output_type": "stream",
          "text": [
            "Quantidade de ações:  {'TSLA': 2, 'AAPL': 29, 'AMZN': 2}\n",
            "Dinheiro restante: $0.12\n"
          ],
          "name": "stdout"
        }
      ]
    }
  ]
}